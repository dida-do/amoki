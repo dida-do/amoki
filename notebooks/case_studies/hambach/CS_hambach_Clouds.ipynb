{
 "cells": [
  {
   "cell_type": "markdown",
   "metadata": {},
   "source": [
    "# Case study for Hambach Surface Mine - Cloud coverage statistics\n",
    "This notebook is part of a series of notebooks for a case study of the Hambach Surface Mine, one of the largest open mines in Germany. In this notebook, we look at the historical cloud cover statistics for the Hambach mine."
   ]
  },
  {
   "cell_type": "markdown",
   "metadata": {},
   "source": [
    "## Configuration and imports"
   ]
  },
  {
   "cell_type": "code",
   "execution_count": 1,
   "metadata": {},
   "outputs": [],
   "source": [
    "from sentinelhub import SHConfig\n",
    "\n",
    "config = SHConfig(\"sentinel-hub-dida-testing\")\n",
    "\n",
    "if not config.sh_client_id or not config.sh_client_secret:\n",
    "    print(\"Warning! To use Process API, please provide the credentials (OAuth client ID and client secret).\")"
   ]
  },
  {
   "cell_type": "code",
   "execution_count": 2,
   "metadata": {},
   "outputs": [],
   "source": [
    "import datetime\n",
    "import os\n",
    "\n",
    "import matplotlib.pyplot as plt\n",
    "import numpy as np\n",
    "\n",
    "from sentinelhub import (\n",
    "    CRS,\n",
    "    BBox,\n",
    "    DataCollection,\n",
    "    DownloadRequest,\n",
    "    MimeType,\n",
    "    MosaickingOrder,\n",
    "    SentinelHubDownloadClient,\n",
    "    SentinelHubRequest,\n",
    "    SentinelHubCatalog,\n",
    "    bbox_to_dimensions,\n",
    ")\n",
    "\n",
    "from amoki.config import DATA_DIR, REFERENCES_DIR\n",
    "from amoki.utilities.sentinelhub_utils import plot_image, get_cloud_coverage"
   ]
  },
  {
   "cell_type": "markdown",
   "metadata": {},
   "source": [
    "## Setting area of interest\n",
    "The bounding box for the Hambach surface mine (one of the biggest open mines in Germany) in `WGS84` coordinate system is approximately `[6.399536,50.838034,6.645355,50.962319]` (longitude and latitude coordinates of lower left and upper right corners). You can get the bbox for a different area at the [bboxfinder](http://bboxfinder.com/) website."
   ]
  },
  {
   "cell_type": "code",
   "execution_count": 3,
   "metadata": {},
   "outputs": [],
   "source": [
    "hambach_coords_wgs84 = (6.399536,50.838034,6.645355,50.962319)"
   ]
  },
  {
   "cell_type": "markdown",
   "metadata": {},
   "source": [
    "When the bounding box bounds have been defined, you can initialize the `BBox` of the area of interest. Using the `bbox_to_dimensions` utility function, you can provide the desired resolution parameter of the image in meters and obtain the output image shape."
   ]
  },
  {
   "cell_type": "code",
   "execution_count": 4,
   "metadata": {},
   "outputs": [
    {
     "name": "stdout",
     "output_type": "stream",
     "text": [
      "Image shape at 10 m resolution: (1775, 1324) pixels\n"
     ]
    }
   ],
   "source": [
    "resolution = 10\n",
    "hambach_bbox = BBox(bbox=hambach_coords_wgs84, crs=CRS.WGS84)\n",
    "hambach_size = bbox_to_dimensions(hambach_bbox, resolution=resolution)\n",
    "\n",
    "print(f\"Image shape at {resolution} m resolution: {hambach_size} pixels\")"
   ]
  },
  {
   "cell_type": "markdown",
   "metadata": {},
   "source": [
    "## First example of cloud coverage data request\n",
    "Let's define an evalscript which will return Sentinel-2 cloud coverage data for the region of interest. \n",
    "There is probably room to optimise this, but since this is just an exploration notebook we won't do this here."
   ]
  },
  {
   "cell_type": "code",
   "execution_count": 5,
   "metadata": {},
   "outputs": [],
   "source": [
    "evalscript_clm = \"\"\"\n",
    "//VERSION=3\n",
    "function setup() {\n",
    "  return {\n",
    "    input: [\"CLM\"],\n",
    "    output: { bands: 1 }\n",
    "  }\n",
    "}\n",
    "\n",
    "function evaluatePixel(sample) {\n",
    "  return [sample.CLM];\n",
    "}\n",
    "\"\"\""
   ]
  },
  {
   "cell_type": "code",
   "execution_count": 6,
   "metadata": {},
   "outputs": [],
   "source": [
    "request_clm = SentinelHubRequest(\n",
    "    data_folder=DATA_DIR / \"sentinel_testing\" / \"hambach\" / \"clouds\",\n",
    "    evalscript=evalscript_clm,\n",
    "    input_data=[\n",
    "        SentinelHubRequest.input_data(\n",
    "            data_collection=DataCollection.SENTINEL2_L1C,\n",
    "            time_interval=(\"2020-03-01\", \"2020-03-18\"),\n",
    "        )\n",
    "    ],\n",
    "    responses=[\n",
    "        SentinelHubRequest.output_response(\"default\", MimeType.PNG),\n",
    "        SentinelHubRequest.output_response(\"userdata\", MimeType.JSON)\n",
    "        ],\n",
    "    bbox=hambach_bbox,\n",
    "    size=hambach_size,\n",
    "    config=config,\n",
    ")"
   ]
  },
  {
   "cell_type": "code",
   "execution_count": 7,
   "metadata": {},
   "outputs": [],
   "source": [
    "data_with_cloud_mask = request_clm.get_data(save_data=True)"
   ]
  },
  {
   "cell_type": "code",
   "execution_count": 8,
   "metadata": {},
   "outputs": [
    {
     "data": {
      "image/png": "[encoded data removed]",
      "text/plain": [
       "<Figure size 1500x1500 with 1 Axes>"
      ]
     },
     "metadata": {},
     "output_type": "display_data"
    }
   ],
   "source": [
    "cloud_mask = data_with_cloud_mask[0][\"default.png\"]/255\n",
    "\n",
    "plot_image(cloud_mask)"
   ]
  },
  {
   "cell_type": "code",
   "execution_count": 9,
   "metadata": {},
   "outputs": [
    {
     "data": {
      "text/plain": [
       "np.float64(0.255586145270414)"
      ]
     },
     "execution_count": 9,
     "metadata": {},
     "output_type": "execute_result"
    }
   ],
   "source": [
    "get_cloud_coverage(cloud_mask=cloud_mask)"
   ]
  },
  {
   "cell_type": "markdown",
   "metadata": {},
   "source": [
    "### Searching the catalog for available data\n",
    "We can use the Catalog API to list available data for the requested area in the requested time interval. "
   ]
  },
  {
   "cell_type": "code",
   "execution_count": 10,
   "metadata": {},
   "outputs": [],
   "source": [
    "catalog = catalog = SentinelHubCatalog(config=config)\n",
    "\n",
    "search_iterator = catalog.search(\n",
    "  DataCollection.SENTINEL2_L1C,  \n",
    "  bbox=hambach_bbox,\n",
    "  time=('2020-03-01', '2020-03-31'),    \n",
    ")\n",
    "\n",
    "results = list(search_iterator)"
   ]
  },
  {
   "cell_type": "markdown",
   "metadata": {},
   "source": [
    "The catalog contains a lot of information. At the moment, we are just interested in the dates on which data is available. "
   ]
  },
  {
   "cell_type": "code",
   "execution_count": 11,
   "metadata": {},
   "outputs": [
    {
     "data": {
      "text/plain": [
       "['2020-03-03',\n",
       " '2020-03-08',\n",
       " '2020-03-13',\n",
       " '2020-03-18',\n",
       " '2020-03-23',\n",
       " '2020-03-28']"
      ]
     },
     "execution_count": 11,
     "metadata": {},
     "output_type": "execute_result"
    }
   ],
   "source": [
    "# Show the datetime results\n",
    "dates_of_acquisition = sorted(list(set([result[\"properties\"][\"datetime\"][0:10] for result in results])))\n",
    "dates_of_acquisition"
   ]
  },
  {
   "cell_type": "markdown",
   "metadata": {},
   "source": [
    "We see that the revisit time for Sentinel 2 is about once every 5 days. Note that there are two Sentinel2 satellites, Sentinal2a and Sentinel2b. Individually, these have a revisit time of approximately 10 days, but they are staggered so that the acquisition time is approximately every 5 days. "
   ]
  },
  {
   "cell_type": "markdown",
   "metadata": {},
   "source": [
    "## Historical variation of cloud coverage\n",
    "Let's get the cloud coverage for an entire year. We first search the catalog for the dates of acquistion during the time period."
   ]
  },
  {
   "cell_type": "code",
   "execution_count": 12,
   "metadata": {},
   "outputs": [],
   "source": [
    "catalog = catalog = SentinelHubCatalog(config=config)\n",
    "\n",
    "search_iterator = catalog.search(\n",
    "  DataCollection.SENTINEL2_L1C,  \n",
    "  bbox=hambach_bbox,\n",
    "  time=('2019-01-01', '2019-12-31'),    \n",
    ")\n",
    "\n",
    "results = list(search_iterator)"
   ]
  },
  {
   "cell_type": "code",
   "execution_count": 13,
   "metadata": {},
   "outputs": [
    {
     "name": "stdout",
     "output_type": "stream",
     "text": [
      "We have data for this number of different days: 73\n"
     ]
    }
   ],
   "source": [
    "# Show the datetime results\n",
    "dates_of_acquisition = sorted(list(set([result[\"properties\"][\"datetime\"][0:10] for result in results])))\n",
    "print(f\"We have data for this number of different days: {len(dates_of_acquisition)}\")\n",
    "\n",
    "# Define a one-day window for each date\n",
    "acquisition_windows = [(date, date) for date in dates_of_acquisition]"
   ]
  },
  {
   "cell_type": "markdown",
   "metadata": {},
   "source": [
    "Note that 73 requests uses a lot of processing units, so consider whether you need to run this code before you do."
   ]
  },
  {
   "cell_type": "code",
   "execution_count": 14,
   "metadata": {},
   "outputs": [],
   "source": [
    "# Define a function to return a request given a time window\n",
    "\n",
    "def get_clm_request(time_interval):\n",
    "    return SentinelHubRequest(\n",
    "        evalscript=evalscript_clm,\n",
    "        input_data=[\n",
    "            SentinelHubRequest.input_data(\n",
    "                data_collection=DataCollection.SENTINEL2_L1C,\n",
    "                time_interval=time_interval,\n",
    "            )\n",
    "        ],\n",
    "        responses=[SentinelHubRequest.output_response(\"default\", MimeType.PNG)],\n",
    "        bbox=hambach_bbox,\n",
    "        size=hambach_size,\n",
    "        config=config,\n",
    "    )"
   ]
  },
  {
   "cell_type": "code",
   "execution_count": 15,
   "metadata": {},
   "outputs": [],
   "source": [
    "# create a list of requests\n",
    "list_of_requests = [get_clm_request(slot) for slot in acquisition_windows]\n",
    "list_of_requests = [request.download_list[0] for request in list_of_requests]\n",
    "\n",
    "# download data with multiple threads\n",
    "data = SentinelHubDownloadClient(config=config).download(list_of_requests, max_threads=5)"
   ]
  },
  {
   "cell_type": "code",
   "execution_count": 16,
   "metadata": {},
   "outputs": [],
   "source": [
    "# For each image collected, calculate the percentage of cloud cover in that image\n",
    "\n",
    "cloud_stats = []\n",
    "\n",
    "for (date, image) in zip(dates_of_acquisition, data):\n",
    "    image = image/255\n",
    "    cloud_coverage = get_cloud_coverage(image)\n",
    "    formatted_date = datetime.datetime.strptime(date, '%Y-%m-%d').date()\n",
    "    cloud_stats.append((formatted_date, get_cloud_coverage(image)))\n"
   ]
  },
  {
   "cell_type": "code",
   "execution_count": 17,
   "metadata": {},
   "outputs": [
    {
     "data": {
      "image/png": "[encoded data removed]",
      "text/plain": [
       "<Figure size 640x480 with 1 Axes>"
      ]
     },
     "metadata": {},
     "output_type": "display_data"
    }
   ],
   "source": [
    "# Plot the percentage cloud cover over time\n",
    "date, cloud_cover = zip(*cloud_stats)\n",
    "\n",
    "plt.plot(date, cloud_cover, 'o')\n",
    "plt.title(\"% Cloud cover above Hambach mine, 2019\")\n",
    "plt.show()"
   ]
  },
  {
   "cell_type": "code",
   "execution_count": 18,
   "metadata": {},
   "outputs": [
    {
     "data": {
      "text/plain": [
       "np.float64(0.738119613680094)"
      ]
     },
     "execution_count": 18,
     "metadata": {},
     "output_type": "execute_result"
    }
   ],
   "source": [
    "# Average cloud cover is quite high\n",
    "np.array(cloud_cover).mean()"
   ]
  },
  {
   "cell_type": "code",
   "execution_count": 19,
   "metadata": {},
   "outputs": [
    {
     "data": {
      "image/png": "[encoded data removed]",
      "text/plain": [
       "<Figure size 640x480 with 1 Axes>"
      ]
     },
     "metadata": {},
     "output_type": "display_data"
    }
   ],
   "source": [
    "# We see that the image is often close to 100% covered in clouds.\n",
    "plt.hist(cloud_cover, bins = 10)\n",
    "plt.title(\"Histogram of cloud coverage data above Hambach, 2019\")\n",
    "plt.show()"
   ]
  },
  {
   "cell_type": "code",
   "execution_count": null,
   "metadata": {},
   "outputs": [],
   "source": []
  }
 ],
 "metadata": {
  "kernelspec": {
   "display_name": ".venv",
   "language": "python",
   "name": "python3"
  },
  "language_info": {
   "codemirror_mode": {
    "name": "ipython",
    "version": 3
   },
   "file_extension": ".py",
   "mimetype": "text/x-python",
   "name": "python",
   "nbconvert_exporter": "python",
   "pygments_lexer": "ipython3",
   "version": "3.12.3"
  }
 },
 "nbformat": 4,
 "nbformat_minor": 2
}
