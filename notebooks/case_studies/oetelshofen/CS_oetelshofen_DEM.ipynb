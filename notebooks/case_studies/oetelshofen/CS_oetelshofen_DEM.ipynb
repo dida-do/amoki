{
 "cells": [
  {
   "cell_type": "markdown",
   "metadata": {},
   "source": [
    "# Case study for Oetelshofen Surface Mine - DEM analysis\n",
    "This notebook is part of a series of notebooks for a case study of the Oetelshofen Surface Mine. In this notebook, we look at the various Digital Elevation Models (DEMs) available from the SENTINEL2_L1C data collection. "
   ]
  },
  {
   "cell_type": "markdown",
   "metadata": {},
   "source": [
    "## Configuration and imports"
   ]
  },
  {
   "cell_type": "code",
   "execution_count": 1,
   "metadata": {},
   "outputs": [],
   "source": [
    "from sentinelhub import SHConfig\n",
    "\n",
    "config = SHConfig(\"sentinel-hub-dida-testing\")\n",
    "\n",
    "if not config.sh_client_id or not config.sh_client_secret:\n",
    "    print(\"Warning! To use Process API, please provide the credentials (OAuth client ID and client secret).\")"
   ]
  },
  {
   "cell_type": "code",
   "execution_count": 2,
   "metadata": {},
   "outputs": [],
   "source": [
    "import datetime\n",
    "import os\n",
    "\n",
    "import yaml\n",
    "import matplotlib.pyplot as plt\n",
    "import numpy as np\n",
    "\n",
    "from sentinelhub import (\n",
    "    CRS,\n",
    "    BBox,\n",
    "    DataCollection,\n",
    "    DownloadRequest,\n",
    "    MimeType,\n",
    "    MosaickingOrder,\n",
    "    SentinelHubDownloadClient,\n",
    "    SentinelHubRequest,\n",
    "    bbox_to_dimensions,\n",
    ")\n",
    "\n",
    "from amoki.config import DATA_DIR, REFERENCES_DIR\n",
    "from amoki.utilities.sentinelhub_utils import plot_image, get_volume_from_dem_array"
   ]
  },
  {
   "cell_type": "markdown",
   "metadata": {},
   "source": [
    "## Setting area of interest\n",
    "The bounding box for the Oetelshofen surface mine  in `WGS84` coordinate system is approximately `[7.0267, 51.2328, 7.0526, 51.2486]` (longitude and latitude coordinates of lower left and upper right corners). You can get the bbox for a different area at the [bboxfinder](http://bboxfinder.com/) website."
   ]
  },
  {
   "cell_type": "code",
   "execution_count": 3,
   "metadata": {},
   "outputs": [],
   "source": [
    "oetelshofen_coords_wgs84 = (7.0267, 51.2328, 7.0526, 51.2486)"
   ]
  },
  {
   "cell_type": "markdown",
   "metadata": {},
   "source": [
    "When the bounding box bounds have been defined, you can initialize the `BBox` of the area of interest. Using the `bbox_to_dimensions` utility function, you can provide the desired resolution parameter of the image in meters and obtain the output image shape."
   ]
  },
  {
   "cell_type": "code",
   "execution_count": 4,
   "metadata": {},
   "outputs": [
    {
     "name": "stdout",
     "output_type": "stream",
     "text": [
      "Image shape at 10 m resolution: (185, 171) pixels\n"
     ]
    }
   ],
   "source": [
    "resolution = 10\n",
    "oetelshofen_bbox = BBox(bbox=oetelshofen_coords_wgs84, crs=CRS.WGS84)\n",
    "oetelshofen_size = bbox_to_dimensions(oetelshofen_bbox, resolution=resolution)\n",
    "\n",
    "print(f\"Image shape at {resolution} m resolution: {oetelshofen_size} pixels\")"
   ]
  },
  {
   "cell_type": "markdown",
   "metadata": {},
   "source": [
    "# DEM analysis\n",
    "There are multiple DEM data collections available through Sentinel"
   ]
  },
  {
   "cell_type": "code",
   "execution_count": 5,
   "metadata": {},
   "outputs": [
    {
     "name": "stdout",
     "output_type": "stream",
     "text": [
      "Supported DataCollections:\n",
      "\n",
      "DataCollection.SENTINEL2_L1C\n",
      "DataCollection.SENTINEL2_L2A\n",
      "DataCollection.SENTINEL1\n",
      "DataCollection.SENTINEL1_IW\n",
      "DataCollection.SENTINEL1_IW_ASC\n",
      "DataCollection.SENTINEL1_IW_DES\n",
      "DataCollection.SENTINEL1_EW\n",
      "DataCollection.SENTINEL1_EW_ASC\n",
      "DataCollection.SENTINEL1_EW_DES\n",
      "DataCollection.SENTINEL1_EW_SH\n",
      "DataCollection.SENTINEL1_EW_SH_ASC\n",
      "DataCollection.SENTINEL1_EW_SH_DES\n",
      "DataCollection.DEM\n",
      "DataCollection.DEM_MAPZEN\n",
      "DataCollection.DEM_COPERNICUS_30\n",
      "DataCollection.DEM_COPERNICUS_90\n",
      "DataCollection.MODIS\n",
      "DataCollection.LANDSAT_MSS_L1\n",
      "DataCollection.LANDSAT_TM_L1\n",
      "DataCollection.LANDSAT_TM_L2\n",
      "DataCollection.LANDSAT_ETM_L1\n",
      "DataCollection.LANDSAT_ETM_L2\n",
      "DataCollection.LANDSAT_OT_L1\n",
      "DataCollection.LANDSAT_OT_L2\n",
      "DataCollection.SENTINEL5P\n",
      "DataCollection.SENTINEL3_OLCI\n",
      "DataCollection.SENTINEL3_SLSTR\n",
      "DataCollection.HARMONIZED_LANDSAT_SENTINEL\n"
     ]
    }
   ],
   "source": [
    "print(\"Supported DataCollections:\\n\")\n",
    "for collection in DataCollection.get_available_collections():\n",
    "    print(collection)"
   ]
  },
  {
   "cell_type": "markdown",
   "metadata": {},
   "source": [
    "\n",
    "The process for downloading DEM data is similar to downloading other data, we just provide the evalscript and create the request. More data on the `DEM` data collection is available [here](https://docs.sentinel-hub.com/api/latest/#/data/DEM). `DEM` values are in meters and can be negative for areas which lie below sea level, so it is recommended to set the output format in your evalscript to `FLOAT32`."
   ]
  },
  {
   "cell_type": "markdown",
   "metadata": {},
   "source": [
    "### DEM"
   ]
  },
  {
   "cell_type": "code",
   "execution_count": 6,
   "metadata": {},
   "outputs": [],
   "source": [
    "evalscript_dem = \"\"\"\n",
    "//VERSION=3\n",
    "function setup() {\n",
    "  return {\n",
    "    input: [\"DEM\"],\n",
    "    output:{\n",
    "      id: \"default\",\n",
    "      bands: 1,\n",
    "      sampleType: SampleType.FLOAT32\n",
    "    }\n",
    "  }\n",
    "}\n",
    "\n",
    "function evaluatePixel(sample) {\n",
    "  return [sample.DEM]\n",
    "}\n",
    "\"\"\"\n"
   ]
  },
  {
   "cell_type": "code",
   "execution_count": 7,
   "metadata": {},
   "outputs": [],
   "source": [
    "dem_request = SentinelHubRequest(\n",
    "    data_folder=DATA_DIR / \"sentinel_testing\" / \"oetelshofen\" / \"dem\" / \"default\",\n",
    "    evalscript=evalscript_dem,\n",
    "    input_data=[\n",
    "        SentinelHubRequest.input_data(\n",
    "            data_collection=DataCollection.DEM,\n",
    "            time_interval=(\"2020-06-12\", \"2020-06-13\"),\n",
    "        )\n",
    "    ],\n",
    "    responses=[SentinelHubRequest.output_response(\"default\", MimeType.TIFF)],\n",
    "    bbox=oetelshofen_bbox,\n",
    "    size=oetelshofen_size,\n",
    "    config=config,\n",
    ")"
   ]
  },
  {
   "cell_type": "code",
   "execution_count": 8,
   "metadata": {},
   "outputs": [],
   "source": [
    "dem_data = dem_request.get_data(save_data=True)"
   ]
  },
  {
   "cell_type": "code",
   "execution_count": 9,
   "metadata": {},
   "outputs": [
    {
     "name": "stdout",
     "output_type": "stream",
     "text": [
      "Minimum elevation in image is: 66.55 m\n",
      "Maximum elevation in image is: 251.64 m\n",
      "Calculated volume of the pit is: 0.023 cubic kilometers\n"
     ]
    },
    {
     "data": {
      "image/png": "[encoded data removed]",
      "text/plain": [
       "<Figure size 800x800 with 1 Axes>"
      ]
     },
     "metadata": {},
     "output_type": "display_data"
    }
   ],
   "source": [
    "# Plot DEM map\n",
    "dem_img = dem_data[0].copy()\n",
    "\n",
    "min_elevation = dem_img.min()\n",
    "max_elevation = dem_img.max()\n",
    "\n",
    "if min_elevation > 0:\n",
    "    ref_elevation = (dem_img.min() + dem_img.max())/2\n",
    "    dem_img -= ref_elevation\n",
    "\n",
    "# Note: This volume calculation is very rough, and meant as an order of magnitude calculation only\n",
    "volume = get_volume_from_dem_array(dem_img, resolution=10)\n",
    "\n",
    "print(f\"Minimum elevation in image is: {min_elevation:.2f} m\")\n",
    "print(f\"Maximum elevation in image is: {max_elevation:.2f} m\")\n",
    "print(f\"Calculated volume of the pit is: {volume:.3f} cubic kilometers\")\n",
    "\n",
    "dem_img = dem_data[0]\n",
    "plot_image(dem_img, factor=1.5, cmap=plt.cm.coolwarm, vmin=min_elevation, vmax=max_elevation, figsize=(8,8))\n",
    "#plt.savefig(\"/home/mark/dida/amoki/reports/figures/dida_group_meeting/dem.png\", bbox_inches='tight', pad_inches=0)"
   ]
  },
  {
   "cell_type": "markdown",
   "metadata": {},
   "source": [
    "### DEM_MAPZEN\n"
   ]
  },
  {
   "cell_type": "code",
   "execution_count": 10,
   "metadata": {},
   "outputs": [],
   "source": [
    "evalscript_dem_mapzen = \"\"\"\n",
    "//VERSION=3\n",
    "function setup() {\n",
    "  return {\n",
    "    input: [\"DEM\"],\n",
    "    output:{\n",
    "      id: \"default\",\n",
    "      bands: 1,\n",
    "      sampleType: SampleType.FLOAT32\n",
    "    }\n",
    "  }\n",
    "}\n",
    "\n",
    "function evaluatePixel(sample) {\n",
    "  return [sample.DEM]\n",
    "}\n",
    "\"\"\"\n"
   ]
  },
  {
   "cell_type": "code",
   "execution_count": 11,
   "metadata": {},
   "outputs": [],
   "source": [
    "dem_mapzen_request = SentinelHubRequest(\n",
    "    data_folder=DATA_DIR / \"sentinel_testing\" / \"oetelshofen\" / \"dem\" / \"mapzen\",\n",
    "    evalscript=evalscript_dem_mapzen,\n",
    "    input_data=[\n",
    "        SentinelHubRequest.input_data(\n",
    "            data_collection=DataCollection.DEM_MAPZEN,\n",
    "            time_interval=(\"2020-06-12\", \"2020-06-13\"),\n",
    "        )\n",
    "    ],\n",
    "    responses=[SentinelHubRequest.output_response(\"default\", MimeType.TIFF)],\n",
    "    bbox=oetelshofen_bbox,\n",
    "    size=oetelshofen_size,\n",
    "    config=config,\n",
    ")"
   ]
  },
  {
   "cell_type": "code",
   "execution_count": 12,
   "metadata": {},
   "outputs": [],
   "source": [
    "dem_mapzen_data = dem_mapzen_request.get_data(save_data=True)"
   ]
  },
  {
   "cell_type": "code",
   "execution_count": 13,
   "metadata": {},
   "outputs": [
    {
     "name": "stdout",
     "output_type": "stream",
     "text": [
      "Minimum elevation in image is: 84.00 m\n",
      "Maximum elevation in image is: 226.00 m\n",
      "Calculated volume of the pit is: 0.012 cubic kilometers\n"
     ]
    },
    {
     "data": {
      "image/png": "[encoded data removed]",
      "text/plain": [
       "<Figure size 800x800 with 1 Axes>"
      ]
     },
     "metadata": {},
     "output_type": "display_data"
    }
   ],
   "source": [
    "# Plot DEM map\n",
    "dem_mapzen_img = dem_mapzen_data[0].copy()\n",
    "\n",
    "min_elevation = dem_mapzen_img.min()\n",
    "max_elevation = dem_mapzen_img.max()\n",
    "\n",
    "if min_elevation > 0:\n",
    "    ref_elevation = (dem_mapzen_img.min() + dem_mapzen_img.max())/2\n",
    "    dem_mapzen_img -= ref_elevation\n",
    "volume = get_volume_from_dem_array(dem_mapzen_img, resolution=10)\n",
    "\n",
    "print(f\"Minimum elevation in image is: {min_elevation:.2f} m\")\n",
    "print(f\"Maximum elevation in image is: {max_elevation:.2f} m\")\n",
    "print(f\"Calculated volume of the pit is: {volume:.3f} cubic kilometers\")\n",
    "\n",
    "dem_mapzen_img = dem_mapzen_data[0]\n",
    "plot_image(dem_mapzen_img, factor=1.5, cmap=plt.cm.coolwarm, vmin=min_elevation, vmax=max_elevation, figsize=(8,8))"
   ]
  },
  {
   "cell_type": "code",
   "execution_count": null,
   "metadata": {},
   "outputs": [],
   "source": []
  },
  {
   "cell_type": "markdown",
   "metadata": {},
   "source": [
    "### DEM_COPERNICUS_30\n"
   ]
  },
  {
   "cell_type": "code",
   "execution_count": 14,
   "metadata": {},
   "outputs": [],
   "source": [
    "evalscript_dem_cop30 = \"\"\"\n",
    "//VERSION=3\n",
    "function setup() {\n",
    "  return {\n",
    "    input: [\"DEM\"],\n",
    "    output:{\n",
    "      id: \"default\",\n",
    "      bands: 1,\n",
    "      sampleType: SampleType.FLOAT32\n",
    "    }\n",
    "  }\n",
    "}\n",
    "\n",
    "function evaluatePixel(sample) {\n",
    "  return [sample.DEM]\n",
    "}\n",
    "\"\"\"\n"
   ]
  },
  {
   "cell_type": "code",
   "execution_count": 15,
   "metadata": {},
   "outputs": [],
   "source": [
    "dem_cop30_request = SentinelHubRequest(\n",
    "    data_folder=DATA_DIR / \"sentinel_testing\" / \"oetelshofen\" / \"dem\" / \"cop30\",\n",
    "    evalscript=evalscript_dem_mapzen,\n",
    "    input_data=[\n",
    "        SentinelHubRequest.input_data(\n",
    "            data_collection=DataCollection.DEM_COPERNICUS_30,\n",
    "            time_interval=(\"2020-06-12\", \"2020-06-13\"),\n",
    "        )\n",
    "    ],\n",
    "    responses=[SentinelHubRequest.output_response(\"default\", MimeType.TIFF)],\n",
    "    bbox=oetelshofen_bbox,\n",
    "    size=oetelshofen_size,\n",
    "    config=config,\n",
    ")"
   ]
  },
  {
   "cell_type": "code",
   "execution_count": 16,
   "metadata": {},
   "outputs": [],
   "source": [
    "dem_cop30_data = dem_cop30_request.get_data(save_data=True)"
   ]
  },
  {
   "cell_type": "code",
   "execution_count": 17,
   "metadata": {},
   "outputs": [
    {
     "name": "stdout",
     "output_type": "stream",
     "text": [
      "Minimum elevation in image is: 66.55 m\n",
      "Maximum elevation in image is: 251.64 m\n",
      "Calculated volume of the pit is: 0.023 cubic kilometers\n"
     ]
    },
    {
     "data": {
      "image/png": "[encoded data removed]",
      "text/plain": [
       "<Figure size 800x800 with 1 Axes>"
      ]
     },
     "metadata": {},
     "output_type": "display_data"
    }
   ],
   "source": [
    "# Plot DEM map\n",
    "dem_cop30_img = dem_cop30_data[0].copy()\n",
    "\n",
    "min_elevation = dem_cop30_img.min()\n",
    "max_elevation = dem_cop30_img.max()\n",
    "\n",
    "if min_elevation > 0:\n",
    "    ref_elevation = (dem_cop30_img.min() + dem_cop30_img.max())/2\n",
    "    dem_cop30_img -= ref_elevation\n",
    "volume = get_volume_from_dem_array(dem_cop30_img, resolution=10)\n",
    "\n",
    "print(f\"Minimum elevation in image is: {min_elevation:.2f} m\")\n",
    "print(f\"Maximum elevation in image is: {max_elevation:.2f} m\")\n",
    "print(f\"Calculated volume of the pit is: {volume:.3f} cubic kilometers\")\n",
    "\n",
    "dem_cop30_img = dem_cop30_data[0]\n",
    "plot_image(dem_cop30_img, factor=1.5, cmap=plt.cm.coolwarm, vmin=min_elevation, vmax=max_elevation, figsize=(8,8))"
   ]
  },
  {
   "cell_type": "markdown",
   "metadata": {},
   "source": [
    "We see that the Copernicus 30 DEM data is the default data returned when DEM is selected (at least in Germany). This also seems to be the most accurate, but Copernicus 30 and MAPZEN are both static and does not depend on the date, so will be unsuitable for tracking volume over time."
   ]
  },
  {
   "cell_type": "code",
   "execution_count": null,
   "metadata": {},
   "outputs": [],
   "source": []
  }
 ],
 "metadata": {
  "kernelspec": {
   "display_name": ".venv",
   "language": "python",
   "name": "python3"
  },
  "language_info": {
   "codemirror_mode": {
    "name": "ipython",
    "version": 3
   },
   "file_extension": ".py",
   "mimetype": "text/x-python",
   "name": "python",
   "nbconvert_exporter": "python",
   "pygments_lexer": "ipython3",
   "version": "3.12.3"
  }
 },
 "nbformat": 4,
 "nbformat_minor": 2
}
